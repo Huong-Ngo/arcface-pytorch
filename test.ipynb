{
 "cells": [
  {
   "cell_type": "code",
   "execution_count": 1,
   "metadata": {},
   "outputs": [],
   "source": [
    "from utils.get_list_data import get_list_data_file, get_list_data_file_val\n",
    "get_list_data_file_val(root = 'dataset/Data_test', file_path = 'dataset/list_data_validate.txt')"
   ]
  },
  {
   "cell_type": "code",
   "execution_count": 4,
   "metadata": {},
   "outputs": [
    {
     "name": "stdout",
     "output_type": "stream",
     "text": [
      "861\n"
     ]
    },
    {
     "data": {
      "text/plain": [
       "(None, 0)"
      ]
     },
     "execution_count": 4,
     "metadata": {},
     "output_type": "execute_result"
    }
   ],
   "source": [
    "import os\n",
    "import cv2\n",
    "# from models import *\n",
    "import torch\n",
    "import numpy as np\n",
    "import time\n",
    "\n",
    "def get_lfw_list(pair_list):\n",
    "    with open(pair_list, 'r') as fd:\n",
    "        pairs = fd.readlines()\n",
    "    data_list = []\n",
    "    for pair in pairs:\n",
    "        splits = pair.split()\n",
    "\n",
    "        if splits[0] not in data_list:\n",
    "            data_list.append(splits[0])\n",
    "\n",
    "        if splits[1] not in data_list:\n",
    "            data_list.append(splits[1])\n",
    "    return data_list\n",
    "\n",
    "\n",
    "def load_image(img_path):\n",
    "    image = cv2.imread(img_path, 1)\n",
    "    if image is None:\n",
    "        return None\n",
    "    # image = np.dstack((image, np.fliplr(image)))\n",
    "    image = image[:,:,::-1]\n",
    "    image = image.transpose((2, 0, 1))\n",
    "    image = image[np.newaxis,:, :, :]\n",
    "    image = image.astype(np.float32, copy=False)\n",
    "    image -= 127.5\n",
    "    image /= 127.5\n",
    "    return image\n",
    "\n",
    "\n",
    "def get_featurs(model, test_list, batch_size=10):\n",
    "    images = None\n",
    "    features = None\n",
    "    cnt = 0\n",
    "    print(len(test_list))\n",
    "    for i, img_path in enumerate(test_list):\n",
    "        image = load_image(img_path)\n",
    "        if image is None:\n",
    "            print('read {} error'.format(img_path))\n",
    "\n",
    "        if images is None:\n",
    "            images = image\n",
    "        else:\n",
    "            images = np.concatenate((images, image), axis=0)\n",
    "\n",
    "        # if images.shape[0] % batch_size == 0 or i == len(test_list) - 1:\n",
    "        #     cnt += 1\n",
    "\n",
    "        #     data = torch.from_numpy(images)\n",
    "        #     data = data.to(torch.device(\"cuda\"))\n",
    "        #     output = model(data)\n",
    "        #     output = output.data.cpu().numpy()\n",
    "\n",
    "        #     fe_1 = output[::2]\n",
    "        #     fe_2 = output[1::2]\n",
    "        #     feature = np.hstack((fe_1, fe_2))\n",
    "        #     # print(feature.shape)\n",
    "\n",
    "        #     if features is None:\n",
    "        #         features = feature\n",
    "        #     else:\n",
    "        #         features = np.vstack((features, feature))\n",
    "\n",
    "            images = None\n",
    "\n",
    "    return features, cnt\n",
    "\n",
    "\n",
    "get_featurs(None, get_lfw_list('dataset\\list_data_val.txt'))"
   ]
  },
  {
   "cell_type": "code",
   "execution_count": 46,
   "metadata": {},
   "outputs": [],
   "source": [
    "import os\n",
    "from os import listdir\n",
    "root = 'dataset/Data_train'\n",
    "for person in os.listdir(root):\n",
    "    person_dir = os.path.join(root, person)\n",
    "    for datafile in os.listdir(person_dir):\n",
    "        datafile_path = os.path.join(person_dir, datafile)\n",
    "        if ' ' in datafile:\n",
    "            new_name = datafile_path.replace(' ', '_')\n",
    "            os.rename(datafile_path, new_name)"
   ]
  },
  {
   "cell_type": "code",
   "execution_count": 10,
   "metadata": {},
   "outputs": [],
   "source": [
    "import cv2\n",
    "import numpy as np\n",
    "def load_image(img_path):\n",
    "    image = cv2.imread(img_path, 1)\n",
    "    if image is None:\n",
    "        return None\n",
    "    # image = np.dstack((image, np.fliplr(image)))\n",
    "    image = image[:,:,::-1]\n",
    "    image = image.transpose((2, 0, 1))\n",
    "    image = image[np.newaxis,:, :, :]\n",
    "    image = image.astype(np.float32, copy=False)\n",
    "    image -= 127.5\n",
    "    image /= 127.5\n",
    "    return image"
   ]
  },
  {
   "cell_type": "code",
   "execution_count": 4,
   "metadata": {},
   "outputs": [
    {
     "data": {
      "text/plain": [
       "<All keys matched successfully>"
      ]
     },
     "execution_count": 4,
     "metadata": {},
     "output_type": "execute_result"
    }
   ],
   "source": [
    "import torch\n",
    "from torch.nn import DataParallel\n",
    "from models.arcface import get_triplet_model\n",
    "\n",
    "model = get_triplet_model(weight_path = 'weights/backbone_r100_glint360k.pt')\n",
    "\n",
    "model = DataParallel(model)\n",
    "\n",
    "model.load_state_dict(torch.load('weights/resnet100_100.pth', map_location= 'cpu'))"
   ]
  },
  {
   "cell_type": "code",
   "execution_count": 8,
   "metadata": {},
   "outputs": [
    {
     "data": {
      "text/plain": [
       "odict_keys(['model.Conv_0.weight', 'model.Conv_0.bias', 'model.initializers.onnx_initializer_0', 'model.initializers.onnx_initializer_1', 'model.initializers.onnx_initializer_2', 'model.initializers.onnx_initializer_3', 'model.initializers.onnx_initializer_4', 'model.initializers.onnx_initializer_5', 'model.initializers.onnx_initializer_6', 'model.initializers.onnx_initializer_7', 'model.initializers.onnx_initializer_8', 'model.initializers.onnx_initializer_9', 'model.initializers.onnx_initializer_10', 'model.initializers.onnx_initializer_11', 'model.initializers.onnx_initializer_12', 'model.initializers.onnx_initializer_13', 'model.initializers.onnx_initializer_14', 'model.initializers.onnx_initializer_15', 'model.initializers.onnx_initializer_16', 'model.initializers.onnx_initializer_17', 'model.initializers.onnx_initializer_18', 'model.initializers.onnx_initializer_19', 'model.initializers.onnx_initializer_20', 'model.initializers.onnx_initializer_21', 'model.initializers.onnx_initializer_22', 'model.initializers.onnx_initializer_23', 'model.initializers.onnx_initializer_24', 'model.initializers.onnx_initializer_25', 'model.initializers.onnx_initializer_26', 'model.initializers.onnx_initializer_27', 'model.initializers.onnx_initializer_28', 'model.initializers.onnx_initializer_29', 'model.initializers.onnx_initializer_30', 'model.initializers.onnx_initializer_31', 'model.initializers.onnx_initializer_32', 'model.initializers.onnx_initializer_33', 'model.initializers.onnx_initializer_34', 'model.initializers.onnx_initializer_35', 'model.initializers.onnx_initializer_36', 'model.initializers.onnx_initializer_37', 'model.initializers.onnx_initializer_38', 'model.initializers.onnx_initializer_39', 'model.initializers.onnx_initializer_40', 'model.initializers.onnx_initializer_41', 'model.initializers.onnx_initializer_42', 'model.initializers.onnx_initializer_43', 'model.initializers.onnx_initializer_44', 'model.initializers.onnx_initializer_45', 'model.initializers.onnx_initializer_46', 'model.initializers.onnx_initializer_47', 'model.initializers.onnx_initializer_48', 'model.initializers.onnx_initializer_49', 'model.BatchNormalization_2.weight', 'model.BatchNormalization_2.bias', 'model.BatchNormalization_2.running_mean', 'model.BatchNormalization_2.running_var', 'model.BatchNormalization_2.num_batches_tracked', 'model.Conv_3.weight', 'model.Conv_3.bias', 'model.Conv_5.weight', 'model.Conv_5.bias', 'model.Conv_6.weight', 'model.Conv_6.bias', 'model.BatchNormalization_8.weight', 'model.BatchNormalization_8.bias', 'model.BatchNormalization_8.running_mean', 'model.BatchNormalization_8.running_var', 'model.BatchNormalization_8.num_batches_tracked', 'model.Conv_9.weight', 'model.Conv_9.bias', 'model.Conv_11.weight', 'model.Conv_11.bias', 'model.BatchNormalization_13.weight', 'model.BatchNormalization_13.bias', 'model.BatchNormalization_13.running_mean', 'model.BatchNormalization_13.running_var', 'model.BatchNormalization_13.num_batches_tracked', 'model.Conv_14.weight', 'model.Conv_14.bias', 'model.Conv_16.weight', 'model.Conv_16.bias', 'model.BatchNormalization_18.weight', 'model.BatchNormalization_18.bias', 'model.BatchNormalization_18.running_mean', 'model.BatchNormalization_18.running_var', 'model.BatchNormalization_18.num_batches_tracked', 'model.Conv_19.weight', 'model.Conv_19.bias', 'model.Conv_21.weight', 'model.Conv_21.bias', 'model.Conv_22.weight', 'model.Conv_22.bias', 'model.BatchNormalization_24.weight', 'model.BatchNormalization_24.bias', 'model.BatchNormalization_24.running_mean', 'model.BatchNormalization_24.running_var', 'model.BatchNormalization_24.num_batches_tracked', 'model.Conv_25.weight', 'model.Conv_25.bias', 'model.Conv_27.weight', 'model.Conv_27.bias', 'model.BatchNormalization_29.weight', 'model.BatchNormalization_29.bias', 'model.BatchNormalization_29.running_mean', 'model.BatchNormalization_29.running_var', 'model.BatchNormalization_29.num_batches_tracked', 'model.Conv_30.weight', 'model.Conv_30.bias', 'model.Conv_32.weight', 'model.Conv_32.bias', 'model.BatchNormalization_34.weight', 'model.BatchNormalization_34.bias', 'model.BatchNormalization_34.running_mean', 'model.BatchNormalization_34.running_var', 'model.BatchNormalization_34.num_batches_tracked', 'model.Conv_35.weight', 'model.Conv_35.bias', 'model.Conv_37.weight', 'model.Conv_37.bias', 'model.BatchNormalization_39.weight', 'model.BatchNormalization_39.bias', 'model.BatchNormalization_39.running_mean', 'model.BatchNormalization_39.running_var', 'model.BatchNormalization_39.num_batches_tracked', 'model.Conv_40.weight', 'model.Conv_40.bias', 'model.Conv_42.weight', 'model.Conv_42.bias', 'model.BatchNormalization_44.weight', 'model.BatchNormalization_44.bias', 'model.BatchNormalization_44.running_mean', 'model.BatchNormalization_44.running_var', 'model.BatchNormalization_44.num_batches_tracked', 'model.Conv_45.weight', 'model.Conv_45.bias', 'model.Conv_47.weight', 'model.Conv_47.bias', 'model.BatchNormalization_49.weight', 'model.BatchNormalization_49.bias', 'model.BatchNormalization_49.running_mean', 'model.BatchNormalization_49.running_var', 'model.BatchNormalization_49.num_batches_tracked', 'model.Conv_50.weight', 'model.Conv_50.bias', 'model.Conv_52.weight', 'model.Conv_52.bias', 'model.BatchNormalization_54.weight', 'model.BatchNormalization_54.bias', 'model.BatchNormalization_54.running_mean', 'model.BatchNormalization_54.running_var', 'model.BatchNormalization_54.num_batches_tracked', 'model.Conv_55.weight', 'model.Conv_55.bias', 'model.Conv_57.weight', 'model.Conv_57.bias', 'model.BatchNormalization_59.weight', 'model.BatchNormalization_59.bias', 'model.BatchNormalization_59.running_mean', 'model.BatchNormalization_59.running_var', 'model.BatchNormalization_59.num_batches_tracked', 'model.Conv_60.weight', 'model.Conv_60.bias', 'model.Conv_62.weight', 'model.Conv_62.bias', 'model.BatchNormalization_64.weight', 'model.BatchNormalization_64.bias', 'model.BatchNormalization_64.running_mean', 'model.BatchNormalization_64.running_var', 'model.BatchNormalization_64.num_batches_tracked', 'model.Conv_65.weight', 'model.Conv_65.bias', 'model.Conv_67.weight', 'model.Conv_67.bias', 'model.BatchNormalization_69.weight', 'model.BatchNormalization_69.bias', 'model.BatchNormalization_69.running_mean', 'model.BatchNormalization_69.running_var', 'model.BatchNormalization_69.num_batches_tracked', 'model.Conv_70.weight', 'model.Conv_70.bias', 'model.Conv_72.weight', 'model.Conv_72.bias', 'model.BatchNormalization_74.weight', 'model.BatchNormalization_74.bias', 'model.BatchNormalization_74.running_mean', 'model.BatchNormalization_74.running_var', 'model.BatchNormalization_74.num_batches_tracked', 'model.Conv_75.weight', 'model.Conv_75.bias', 'model.Conv_77.weight', 'model.Conv_77.bias', 'model.BatchNormalization_79.weight', 'model.BatchNormalization_79.bias', 'model.BatchNormalization_79.running_mean', 'model.BatchNormalization_79.running_var', 'model.BatchNormalization_79.num_batches_tracked', 'model.Conv_80.weight', 'model.Conv_80.bias', 'model.Conv_82.weight', 'model.Conv_82.bias', 'model.BatchNormalization_84.weight', 'model.BatchNormalization_84.bias', 'model.BatchNormalization_84.running_mean', 'model.BatchNormalization_84.running_var', 'model.BatchNormalization_84.num_batches_tracked', 'model.Conv_85.weight', 'model.Conv_85.bias', 'model.Conv_87.weight', 'model.Conv_87.bias', 'model.Conv_88.weight', 'model.Conv_88.bias', 'model.BatchNormalization_90.weight', 'model.BatchNormalization_90.bias', 'model.BatchNormalization_90.running_mean', 'model.BatchNormalization_90.running_var', 'model.BatchNormalization_90.num_batches_tracked', 'model.Conv_91.weight', 'model.Conv_91.bias', 'model.Conv_93.weight', 'model.Conv_93.bias', 'model.BatchNormalization_95.weight', 'model.BatchNormalization_95.bias', 'model.BatchNormalization_95.running_mean', 'model.BatchNormalization_95.running_var', 'model.BatchNormalization_95.num_batches_tracked', 'model.Conv_96.weight', 'model.Conv_96.bias', 'model.Conv_98.weight', 'model.Conv_98.bias', 'model.BatchNormalization_100.weight', 'model.BatchNormalization_100.bias', 'model.BatchNormalization_100.running_mean', 'model.BatchNormalization_100.running_var', 'model.BatchNormalization_100.num_batches_tracked', 'model.Conv_101.weight', 'model.Conv_101.bias', 'model.Conv_103.weight', 'model.Conv_103.bias', 'model.BatchNormalization_105.weight', 'model.BatchNormalization_105.bias', 'model.BatchNormalization_105.running_mean', 'model.BatchNormalization_105.running_var', 'model.BatchNormalization_105.num_batches_tracked', 'model.Conv_106.weight', 'model.Conv_106.bias', 'model.Conv_108.weight', 'model.Conv_108.bias', 'model.BatchNormalization_110.weight', 'model.BatchNormalization_110.bias', 'model.BatchNormalization_110.running_mean', 'model.BatchNormalization_110.running_var', 'model.BatchNormalization_110.num_batches_tracked', 'model.Conv_111.weight', 'model.Conv_111.bias', 'model.Conv_113.weight', 'model.Conv_113.bias', 'model.BatchNormalization_115.weight', 'model.BatchNormalization_115.bias', 'model.BatchNormalization_115.running_mean', 'model.BatchNormalization_115.running_var', 'model.BatchNormalization_115.num_batches_tracked', 'model.Conv_116.weight', 'model.Conv_116.bias', 'model.Conv_118.weight', 'model.Conv_118.bias', 'model.BatchNormalization_120.weight', 'model.BatchNormalization_120.bias', 'model.BatchNormalization_120.running_mean', 'model.BatchNormalization_120.running_var', 'model.BatchNormalization_120.num_batches_tracked', 'model.Conv_121.weight', 'model.Conv_121.bias', 'model.Conv_123.weight', 'model.Conv_123.bias', 'model.BatchNormalization_125.weight', 'model.BatchNormalization_125.bias', 'model.BatchNormalization_125.running_mean', 'model.BatchNormalization_125.running_var', 'model.BatchNormalization_125.num_batches_tracked', 'model.Conv_126.weight', 'model.Conv_126.bias', 'model.Conv_128.weight', 'model.Conv_128.bias', 'model.BatchNormalization_130.weight', 'model.BatchNormalization_130.bias', 'model.BatchNormalization_130.running_mean', 'model.BatchNormalization_130.running_var', 'model.BatchNormalization_130.num_batches_tracked', 'model.Conv_131.weight', 'model.Conv_131.bias', 'model.Conv_133.weight', 'model.Conv_133.bias', 'model.BatchNormalization_135.weight', 'model.BatchNormalization_135.bias', 'model.BatchNormalization_135.running_mean', 'model.BatchNormalization_135.running_var', 'model.BatchNormalization_135.num_batches_tracked', 'model.Conv_136.weight', 'model.Conv_136.bias', 'model.Conv_138.weight', 'model.Conv_138.bias', 'model.BatchNormalization_140.weight', 'model.BatchNormalization_140.bias', 'model.BatchNormalization_140.running_mean', 'model.BatchNormalization_140.running_var', 'model.BatchNormalization_140.num_batches_tracked', 'model.Conv_141.weight', 'model.Conv_141.bias', 'model.Conv_143.weight', 'model.Conv_143.bias', 'model.BatchNormalization_145.weight', 'model.BatchNormalization_145.bias', 'model.BatchNormalization_145.running_mean', 'model.BatchNormalization_145.running_var', 'model.BatchNormalization_145.num_batches_tracked', 'model.Conv_146.weight', 'model.Conv_146.bias', 'model.Conv_148.weight', 'model.Conv_148.bias', 'model.BatchNormalization_150.weight', 'model.BatchNormalization_150.bias', 'model.BatchNormalization_150.running_mean', 'model.BatchNormalization_150.running_var', 'model.BatchNormalization_150.num_batches_tracked', 'model.Conv_151.weight', 'model.Conv_151.bias', 'model.Conv_153.weight', 'model.Conv_153.bias', 'model.BatchNormalization_155.weight', 'model.BatchNormalization_155.bias', 'model.BatchNormalization_155.running_mean', 'model.BatchNormalization_155.running_var', 'model.BatchNormalization_155.num_batches_tracked', 'model.Conv_156.weight', 'model.Conv_156.bias', 'model.Conv_158.weight', 'model.Conv_158.bias', 'model.BatchNormalization_160.weight', 'model.BatchNormalization_160.bias', 'model.BatchNormalization_160.running_mean', 'model.BatchNormalization_160.running_var', 'model.BatchNormalization_160.num_batches_tracked', 'model.Conv_161.weight', 'model.Conv_161.bias', 'model.Conv_163.weight', 'model.Conv_163.bias', 'model.BatchNormalization_165.weight', 'model.BatchNormalization_165.bias', 'model.BatchNormalization_165.running_mean', 'model.BatchNormalization_165.running_var', 'model.BatchNormalization_165.num_batches_tracked', 'model.Conv_166.weight', 'model.Conv_166.bias', 'model.Conv_168.weight', 'model.Conv_168.bias', 'model.BatchNormalization_170.weight', 'model.BatchNormalization_170.bias', 'model.BatchNormalization_170.running_mean', 'model.BatchNormalization_170.running_var', 'model.BatchNormalization_170.num_batches_tracked', 'model.Conv_171.weight', 'model.Conv_171.bias', 'model.Conv_173.weight', 'model.Conv_173.bias', 'model.BatchNormalization_175.weight', 'model.BatchNormalization_175.bias', 'model.BatchNormalization_175.running_mean', 'model.BatchNormalization_175.running_var', 'model.BatchNormalization_175.num_batches_tracked', 'model.Conv_176.weight', 'model.Conv_176.bias', 'model.Conv_178.weight', 'model.Conv_178.bias', 'model.BatchNormalization_180.weight', 'model.BatchNormalization_180.bias', 'model.BatchNormalization_180.running_mean', 'model.BatchNormalization_180.running_var', 'model.BatchNormalization_180.num_batches_tracked', 'model.Conv_181.weight', 'model.Conv_181.bias', 'model.Conv_183.weight', 'model.Conv_183.bias', 'model.BatchNormalization_185.weight', 'model.BatchNormalization_185.bias', 'model.BatchNormalization_185.running_mean', 'model.BatchNormalization_185.running_var', 'model.BatchNormalization_185.num_batches_tracked', 'model.Conv_186.weight', 'model.Conv_186.bias', 'model.Conv_188.weight', 'model.Conv_188.bias', 'model.BatchNormalization_190.weight', 'model.BatchNormalization_190.bias', 'model.BatchNormalization_190.running_mean', 'model.BatchNormalization_190.running_var', 'model.BatchNormalization_190.num_batches_tracked', 'model.Conv_191.weight', 'model.Conv_191.bias', 'model.Conv_193.weight', 'model.Conv_193.bias', 'model.BatchNormalization_195.weight', 'model.BatchNormalization_195.bias', 'model.BatchNormalization_195.running_mean', 'model.BatchNormalization_195.running_var', 'model.BatchNormalization_195.num_batches_tracked', 'model.Conv_196.weight', 'model.Conv_196.bias', 'model.Conv_198.weight', 'model.Conv_198.bias', 'model.BatchNormalization_200.weight', 'model.BatchNormalization_200.bias', 'model.BatchNormalization_200.running_mean', 'model.BatchNormalization_200.running_var', 'model.BatchNormalization_200.num_batches_tracked', 'model.Conv_201.weight', 'model.Conv_201.bias', 'model.Conv_203.weight', 'model.Conv_203.bias', 'model.BatchNormalization_205.weight', 'model.BatchNormalization_205.bias', 'model.BatchNormalization_205.running_mean', 'model.BatchNormalization_205.running_var', 'model.BatchNormalization_205.num_batches_tracked', 'model.Conv_206.weight', 'model.Conv_206.bias', 'model.Conv_208.weight', 'model.Conv_208.bias', 'model.BatchNormalization_210.weight', 'model.BatchNormalization_210.bias', 'model.BatchNormalization_210.running_mean', 'model.BatchNormalization_210.running_var', 'model.BatchNormalization_210.num_batches_tracked', 'model.Conv_211.weight', 'model.Conv_211.bias', 'model.Conv_213.weight', 'model.Conv_213.bias', 'model.BatchNormalization_215.weight', 'model.BatchNormalization_215.bias', 'model.BatchNormalization_215.running_mean', 'model.BatchNormalization_215.running_var', 'model.BatchNormalization_215.num_batches_tracked', 'model.Conv_216.weight', 'model.Conv_216.bias', 'model.Conv_218.weight', 'model.Conv_218.bias', 'model.BatchNormalization_220.weight', 'model.BatchNormalization_220.bias', 'model.BatchNormalization_220.running_mean', 'model.BatchNormalization_220.running_var', 'model.BatchNormalization_220.num_batches_tracked', 'model.Conv_221.weight', 'model.Conv_221.bias', 'model.Conv_223.weight', 'model.Conv_223.bias', 'model.BatchNormalization_225.weight', 'model.BatchNormalization_225.bias', 'model.BatchNormalization_225.running_mean', 'model.BatchNormalization_225.running_var', 'model.BatchNormalization_225.num_batches_tracked', 'model.Conv_226.weight', 'model.Conv_226.bias', 'model.Conv_228.weight', 'model.Conv_228.bias', 'model.BatchNormalization_230.weight', 'model.BatchNormalization_230.bias', 'model.BatchNormalization_230.running_mean', 'model.BatchNormalization_230.running_var', 'model.BatchNormalization_230.num_batches_tracked', 'model.Conv_231.weight', 'model.Conv_231.bias', 'model.Conv_233.weight', 'model.Conv_233.bias', 'model.BatchNormalization_235.weight', 'model.BatchNormalization_235.bias', 'model.BatchNormalization_235.running_mean', 'model.BatchNormalization_235.running_var', 'model.BatchNormalization_235.num_batches_tracked', 'model.Conv_236.weight', 'model.Conv_236.bias', 'model.Conv_238.weight', 'model.Conv_238.bias', 'model.Conv_239.weight', 'model.Conv_239.bias', 'model.BatchNormalization_241.weight', 'model.BatchNormalization_241.bias', 'model.BatchNormalization_241.running_mean', 'model.BatchNormalization_241.running_var', 'model.BatchNormalization_241.num_batches_tracked', 'model.Conv_242.weight', 'model.Conv_242.bias', 'model.Conv_244.weight', 'model.Conv_244.bias', 'model.BatchNormalization_246.weight', 'model.BatchNormalization_246.bias', 'model.BatchNormalization_246.running_mean', 'model.BatchNormalization_246.running_var', 'model.BatchNormalization_246.num_batches_tracked', 'model.Conv_247.weight', 'model.Conv_247.bias', 'model.Conv_249.weight', 'model.Conv_249.bias', 'model.BatchNormalization_251.weight', 'model.BatchNormalization_251.bias', 'model.BatchNormalization_251.running_mean', 'model.BatchNormalization_251.running_var', 'model.BatchNormalization_251.num_batches_tracked', 'model.Gemm_253.weight', 'model.Gemm_253.bias', 'model.BatchNormalization_254.weight', 'model.BatchNormalization_254.bias', 'model.BatchNormalization_254.running_mean', 'model.BatchNormalization_254.running_var', 'model.BatchNormalization_254.num_batches_tracked'])"
      ]
     },
     "execution_count": 8,
     "metadata": {},
     "output_type": "execute_result"
    }
   ],
   "source": [
    "torch.load('weights/resnet100_1001.pth', map_location= 'cpu').keys()"
   ]
  }
 ],
 "metadata": {
  "kernelspec": {
   "display_name": "Python 3",
   "language": "python",
   "name": "python3"
  },
  "language_info": {
   "codemirror_mode": {
    "name": "ipython",
    "version": 3
   },
   "file_extension": ".py",
   "mimetype": "text/x-python",
   "name": "python",
   "nbconvert_exporter": "python",
   "pygments_lexer": "ipython3",
   "version": "3.11.3"
  },
  "orig_nbformat": 4
 },
 "nbformat": 4,
 "nbformat_minor": 2
}
